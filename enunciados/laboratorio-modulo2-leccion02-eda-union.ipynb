{
 "cells": [
  {
   "cell_type": "markdown",
   "metadata": {},
   "source": [
    "<div style=\"text-align: center;\">\n",
    "  <img src=\"https://github.com/Hack-io-Data/Imagenes/blob/main/01-LogosHackio/logo_naranja@4x.png?raw=true\" alt=\"esquema\" />\n",
    "</div>"
   ]
  },
  {
   "cell_type": "markdown",
   "metadata": {},
   "source": [
    "# Laboratorio Pandas (EDA y Unión de Datos)\n",
    "\n",
    "## Los datos\n",
    "\n",
    "Para este laboratorio, trabajarás con los siguientes conjuntos de datos:\n",
    "\n",
    "- **`netflix_originals.csv`**: Contiene información sobre producciones originales de Netflix. Las columnas que nos encontraremos en este conjunto de datos son: \n",
    "\n",
    "   - `Title`: Contiene el nombre del título de la producción original de Netflix.\n",
    "\n",
    "   - `Genre`: Especifica el género o combinación de géneros de la producción.\n",
    "\n",
    "   - `Premiere`: Indica la fecha de estreno de la producción en Netflix.\n",
    "\n",
    "   - `Runtime`: Contiene la duración de la producción en minutos.\n",
    "\n",
    "   - `IMDB Score`: Representa la calificación promedio que la producción ha recibido en la plataforma IMDB.\n",
    "\n",
    "   - `Language`: Especifica el idioma principal o los idiomas en los que se presenta la producción.\n",
    "\n",
    "- **`netflix_titles.csv`**: Contiene información sobre una variedad de títulos disponibles en la plataforma Netflix, incluyendo tanto películas como series de televisión. Las columnas que nos encontraremos en este conjunto de datos son:\n",
    "\n",
    "   - `show_id`: Identificador único para cada título en el dataset.\n",
    "\n",
    "   - `type`: Especifica el tipo de contenido, ya sea \"Movie\" (película) o \"TV Show\" (serie de televisión).\n",
    "\n",
    "   - `title`: Contiene el nombre del título de la producción.\n",
    "\n",
    "   - `director`: Muestra el nombre del director del título. Puede estar vacío en algunos casos.\n",
    "\n",
    "   - `cast`: Lista de actores y actrices que participaron en el título. También puede estar vacío en algunos casos.\n",
    "\n",
    "   - `country`: País o países donde se produjo el título. Esta columna también puede tener valores faltantes.\n",
    "\n",
    "   - `date_added`: Fecha en la que el título fue añadido al catálogo de Netflix.\n",
    "\n",
    "   - `release_year`: Año en que el título fue lanzado o producido.\n",
    "\n",
    "   - `rating`: Clasificación del contenido en términos de audiencia (por ejemplo, PG-13, TV-MA).\n",
    "\n",
    "   - `duration`: Duración del título. Para películas, se expresa en minutos (e.g., \"90 min\") y para series en temporadas (e.g., \"2 Seasons\").\n",
    "\n",
    "   - `listed_in`: Categorías o géneros bajo los cuales el título está clasificado (por ejemplo, \"Documentaries\", \"TV Dramas\").\n",
    "\n",
    "   - `description`: Breve sinopsis o descripción del contenido del título.\n",
    "\n",
    "A lo largo de los laboratorios de Pandas, trabajarás con estos conjuntos de datos (o con los derivados del Laboratorio), algunas de las actividades que realizaremos son:\n",
    "\n",
    "- Exploración de datos y análisis exploratorio (EDA) para familiarizarse con los conjuntos de datos.\n",
    "\n",
    "- Realización de uniones entre conjuntos de datos, aplicando diferentes técnicas de *merging* y analizando la relevancia de cada método.\n",
    "\n",
    "- Uso de funciones de selección y filtrado (`loc`, `iloc`) para extraer información clave.\n",
    "\n",
    "- Desarrollo de análisis descriptivos y visualización de patrones para comprender mejor las decisiones estratégicas de la plataforma.\n",
    "\n",
    "----\n",
    "\n",
    "## Objetivo General de la Serie de Laboratorios\n",
    "\n",
    "\n",
    "\n",
    "1. **Unión de `netflix_titles.csv` con `netflix_originals.csv`:**\n",
    "\n",
    "   - **Análisis de contenido original:**  Identificarás los títulos que son producciones originales de Netflix y los compararás con los títulos adquiridos. Este análisis te permitirá:\n",
    "\n",
    "     - Comparar la diversidad de géneros entre los títulos originales y no originales.\n",
    "\n",
    "     - Evaluar si ciertos géneros o tipos de contenido (como documentales o series) son más frecuentes en las producciones originales.\n",
    "\n",
    "     - Investigar si la producción original se concentra en determinados países o idiomas.\n",
    "\n",
    "\n",
    "   - **Evaluación de contenido:** En esta etapa, explorarás si las producciones originales de Netflix tienden a recibir mejores o peores evaluaciones en comparación con el contenido adquirido. Algunas preguntas que se buscarán responder incluyen:\n",
    "\n",
    "     - ¿Los títulos originales tienen una calificación promedio superior en plataformas como IMDB?\n",
    "\n",
    "     - ¿Son las producciones originales más consistentes en términos de calidad percibida?\n",
    "\n",
    "     - ¿Existen diferencias en la popularidad de los títulos originales según su género o país de origen?\n",
    "\n",
    "\n",
    "   - **Identificación de tendencias:**  Por último, este análisis te permitirá explorar cómo ha evolucionado la estrategia de contenido de Netflix a lo largo del tiempo. Algunos puntos clave a investigar serán:\n",
    "\n",
    "     - ¿Cómo ha crecido la producción original en comparación con la adquisición de contenido?\n",
    "\n",
    "     - ¿Qué géneros o tipos de contenido han recibido mayor inversión en los últimos años?\n",
    "     \n",
    "     - ¿Existen patrones en los países o idiomas de las producciones originales, especialmente en relación con la expansión global de Netflix?\n",
    "\n",
    "\n",
    "----\n",
    "\n",
    "\n",
    "## Ejercicio: Análisis y Enriquecimiento del Catálogo de Netflix\n",
    "\n",
    "### Parte 1: Análisis Exploratorio de Datos (EDA)\n",
    "\n",
    "1. **Carga de los datos:**\n",
    "\n",
    "   - Deberás cargar los dos conjuntos de datos que te hemos proporcionado para realizar este Laboratorio:\n",
    "\n",
    "     - `netflix_originals.csv`\n",
    "\n",
    "     - `netflix_titles.csv`\n",
    "\n",
    "   Deberás revisar la estructura de cada conjunto de datos utilizando los métodos aprendidos durante la lección.\n",
    "\n",
    "2. **Análisis de columnas y consistencia:**\n",
    "\n",
    "   - Deberás hacer un análisis exploratorio de cada uno de los conjuntos de datos. Será obligatorio que incluyas las conclusiones generales obtenidas de cada uno de los análisis exploratorios en el Jupyter Notebook de tus soluciones.\n",
    "\n",
    "   - Explorar qué columnas contiene cada conjunto de datos y cuáles son sus tipos de datos. Identificar si hay valores nulos o duplicados.\n",
    "\n",
    "   - Algunas preguntas que nos podemos plantear en esta fase son (recuerda que esto es solo un ejemplo, y que podemos explorar todo lo que queramos/necesitemos para entender lo mejor posible los conjuntos de datos):\n",
    "\n",
    "      - ¿Cuáles son los tipos de datos de cada columna? Nos puede ayudar a detectar si algún tipo de dato está incorrectamente asignado, como fechas almacenadas como cadenas de texto.\n",
    "\n",
    "      - ¿Existen valores nulos? ¿En qué columnas están? Este paso es crucial para decidir si deben ser eliminados, rellenados o ignorados.\n",
    "\n",
    "      - ¿Cuántos títulos únicos hay en cada conjunto de datos? Nos puede permitir verificar si existen títulos duplicados que puedan distorsionar el análisis.\n",
    "\n",
    "      - ¿Qué géneros tenemos en el conjunto de datos? Esto nos puede ayudar a identificar los géneros más populares o incluso a identificar una posible limpieza de dicha columna para poder extraer conclusiones más claras en nuestro análisis.\n",
    "\n",
    "### Parte 2: Unión de Datos\n",
    "\n",
    "1. **Realización de la unión:**\n",
    "\n",
    "   - Deberás realizar la unión que consideres más apropiada entre `netflix_titles.csv` y `netflix_originals.csv`. Además, deberás justificar el tipo de unión que has realizado.\n",
    "\n",
    "   - Esto nos ayudará a contestar preguntas más adelente del tipo:\n",
    "\n",
    "     - ¿Cuántos títulos en `netflix_titles.csv` son producciones originales de Netflix?\n",
    "\n",
    "     - ¿Hay diferencias significativas en la puntuación de IMDB entre títulos originales y no originales?\n",
    "\n",
    "### Parte 3: Uso de `loc` e `iloc`\n",
    "\n",
    "Usando el DataFrame creado en la Parte 2: \n",
    "\n",
    "1. **Filtrado de datos con `loc`:**\n",
    "\n",
    "   - Selecciona todas las filas donde el tipo de contenido sea “Movie”.\n",
    "\n",
    "   - Muestra solo los títulos (title) y la duración (duration) de todos los contenidos que sean de tipo “TV Show”.\n",
    "\n",
    "   - Selecciona todas las filas donde el país sea “United States”.\n",
    "\n",
    "   - Muestra todas las películas (type = “Movie”) y selecciona las columnas title y director.\n",
    "\n",
    "   - Selecciona los títulos (title) y géneros (listed_in) de todas las producciones lanzadas en 2018.\n",
    "\n",
    "   - Selecciona las filas donde la columna director esté vacía y muestra solo los títulos (title).\n",
    "\n",
    "2. **Acceso a datos específicos con `iloc`:**\n",
    "\n",
    "   - Selecciona las primeras 5 filas del conjunto de datos y muestra solo las columnas title, director y country.\n",
    "\n",
    "   - Muestra las últimas 5 filas del conjunto de datos y selecciona las columnas title y description.\n",
    "\n",
    "   - Selecciona las primeras 10 filas del dataset y muestra las columnas desde la segunda hasta la quinta (incluidas). \n",
    "\n",
    "   - Muestra las últimas 7 filas del dataset y selecciona las columnas title, director, y country usando índices posicionales.\n",
    "\n",
    "   - Selecciona las filas desde la 15 hasta la 25 (incluidas) y muestra las primeras 4 columnas.\n",
    "\n",
    "   - Muestra las filas 20 a 30 y solo las columnas title, release_year, y rating usando índices posicionales.\n",
    "\n",
    "\n",
    "**NOTA IMPORTANTE**: Antes de terminar el lab, guarda el conjunto de datos creado en la fase de unión para trabajar con el en las siguientes lecciones. "
   ]
  },
  {
   "cell_type": "markdown",
   "metadata": {},
   "source": [
    "# Información sobre el dataframe netflix_originals:\n",
    "- Este dataframe contiene información sobre los títulos provenientes de netflix originals. Incluye detalles sobre el título, el género, la fecha de lanzamiento, duración y notas en IMDB, así como el idioma \n",
    "\n",
    "- Tenemos un df con 7 valores de agrupación diferentes y 513 observaciones totales por columna.\n",
    "- Todos los datos corresponden al sentido común y tienen el tipo adecuado.\n",
    "- Eliminada columna Unnamed:0, pues no aporta al ser un índice redundante.\n",
    "- No hay valores duplicados generales. Tampoco hay títulos iguales en diferentes idiomas no registrados como tal.\n",
    "- Los principales géneros de películas son documentales (24,7%), drama (14,2%) y comedias (8,1%). Los menos comunes son animación, comedias sobre danza y animación. Todas con un 1,9% del total.\n",
    " -- (Para un futuro me gustaría implementar un método de separación de géneros para aumentar la precisión)\n",
    "- No existen datos nulos en la base.\n",
    "- La media de duración de cada show es de una hora y media (94 minutos)\n",
    "\n",
    "# Informacion sobre el dataframe netflix_titles:\n",
    "Conclusiones generales sobre el dataframe netflix_titles\n",
    "En este dataframe hay titulos de peliculas y series de Netflix.\n",
    "\n",
    "-Existen 13 columnas y 8807 peliculas y series. La mayoria son de tipo objeto. Existen 11 columnas de tipo objeto y 2 int.\n",
    "-Hay valores nulos pero no duplicados. Las columnas con valores nulos son: director, cast, country, date_added, rating,duration.\n",
    "-Existen 6131 peliculas y 2676 series en total.\n",
    "-En cuanto a las clasificaciones de edad la mayoria de peliculas estan clasificadas con TV-MA. Son 2062 filas que equivale a un 23.42% del total. La clasficación de edad de las series que más porcentaje tiene es TV-MA con un total de 1145 que equivale a un 13.01% del total. Dentro de esta categoría existen datos, en concreto 3 filas, que nos generarán inconsistencias al hacer un análisis en el futuro, estos datos tienen que ver con la duración de las peliculas.\n",
    "-El director que más peliculas o tv shows es Rajiv Chilaka con 19 pelliculas que equivale a un 0.03% del total.\n",
    "-En un futuro se podría poner como indice la columna 'show_id'. Resulta ser el identificador de cada serie y son valores unicos.\n",
    "-El pais con más producciones de peliculas es United States con 2818 que equivale a un 35.33% del total. Pero hay un dato que no concuerda y es que indica de nuevo United States dentro del grupo de paises con solo 1 pelicula producida, esto puede producir inconsistencias en el análisis posterior\n",
    "-La fecha en la que se añadio la última pelicula fue el 1 de Enero de 2020."
   ]
  },
  {
   "cell_type": "code",
   "execution_count": 3,
   "metadata": {},
   "outputs": [],
   "source": [
    "import pandas as pd"
   ]
  },
  {
   "cell_type": "code",
   "execution_count": 5,
   "metadata": {},
   "outputs": [],
   "source": [
    "df_originals = pd.read_csv(\"../datos/netflix_originals.csv\", index_col = 0) "
   ]
  },
  {
   "cell_type": "code",
   "execution_count": 6,
   "metadata": {},
   "outputs": [],
   "source": [
    "df_titles = pd.read_csv(\"../datos/netflix_titles.csv\", index_col = 0) "
   ]
  },
  {
   "cell_type": "code",
   "execution_count": null,
   "metadata": {},
   "outputs": [],
   "source": [
    "#MERGE\n",
    "\n",
    "df_concat = df_titles.merge(df_originals, how=\"inner\", right_on=\"Title\", left_on=\"title\")\n",
    "df_concat.head()"
   ]
  },
  {
   "cell_type": "markdown",
   "metadata": {},
   "source": [
    "3.1.1  Selecciona todas las filas donde el tipo de contenido sea “Movie”."
   ]
  },
  {
   "cell_type": "code",
   "execution_count": null,
   "metadata": {},
   "outputs": [],
   "source": [
    "filtro_type_movie = df_concat[\"type\"] == \"Movie\"\n",
    "df_concat.loc[filtro_type_movie]"
   ]
  },
  {
   "cell_type": "markdown",
   "metadata": {},
   "source": [
    "3.1.2 Muestra solo los títulos (title) y la duración (duration) de todos los contenidos que sean de tipo “TV Show”."
   ]
  },
  {
   "cell_type": "code",
   "execution_count": 39,
   "metadata": {},
   "outputs": [
    {
     "data": {
      "text/html": [
       "<div>\n",
       "<style scoped>\n",
       "    .dataframe tbody tr th:only-of-type {\n",
       "        vertical-align: middle;\n",
       "    }\n",
       "\n",
       "    .dataframe tbody tr th {\n",
       "        vertical-align: top;\n",
       "    }\n",
       "\n",
       "    .dataframe thead th {\n",
       "        text-align: right;\n",
       "    }\n",
       "</style>\n",
       "<table border=\"1\" class=\"dataframe\">\n",
       "  <thead>\n",
       "    <tr style=\"text-align: right;\">\n",
       "      <th></th>\n",
       "      <th>title</th>\n",
       "      <th>duration</th>\n",
       "      <th>type</th>\n",
       "    </tr>\n",
       "  </thead>\n",
       "  <tbody>\n",
       "  </tbody>\n",
       "</table>\n",
       "</div>"
      ],
      "text/plain": [
       "Empty DataFrame\n",
       "Columns: [title, duration, type]\n",
       "Index: []"
      ]
     },
     "execution_count": 39,
     "metadata": {},
     "output_type": "execute_result"
    }
   ],
   "source": [
    "df_concat.loc[df_concat[\"type\"] == \"TV Show\",[\"title\", \"duration\", \"type\"]]\n"
   ]
  },
  {
   "cell_type": "markdown",
   "metadata": {},
   "source": [
    "3.1.3  - Selecciona todas las filas donde el país sea “United States”.\n"
   ]
  },
  {
   "cell_type": "code",
   "execution_count": null,
   "metadata": {},
   "outputs": [],
   "source": [
    "df_concat.loc[df_concat[\"country\"] == \"United States\"]"
   ]
  },
  {
   "cell_type": "markdown",
   "metadata": {},
   "source": [
    "3.1.4 Muestra todas las películas (type = “Movie”) y selecciona las columnas title y director.\n"
   ]
  },
  {
   "cell_type": "code",
   "execution_count": null,
   "metadata": {},
   "outputs": [],
   "source": [
    "df_concat.loc[df_concat[\"type\"] == \"Movie\", [\"title\", \"director\"]]\n"
   ]
  },
  {
   "cell_type": "markdown",
   "metadata": {},
   "source": [
    "3.1.5 Selecciona los títulos (title) y géneros (listed_in) de todas las producciones lanzadas en 2018."
   ]
  },
  {
   "cell_type": "code",
   "execution_count": 40,
   "metadata": {},
   "outputs": [
    {
     "data": {
      "text/html": [
       "<div>\n",
       "<style scoped>\n",
       "    .dataframe tbody tr th:only-of-type {\n",
       "        vertical-align: middle;\n",
       "    }\n",
       "\n",
       "    .dataframe tbody tr th {\n",
       "        vertical-align: top;\n",
       "    }\n",
       "\n",
       "    .dataframe thead th {\n",
       "        text-align: right;\n",
       "    }\n",
       "</style>\n",
       "<table border=\"1\" class=\"dataframe\">\n",
       "  <thead>\n",
       "    <tr style=\"text-align: right;\">\n",
       "      <th></th>\n",
       "      <th>title</th>\n",
       "      <th>director</th>\n",
       "    </tr>\n",
       "  </thead>\n",
       "  <tbody>\n",
       "    <tr>\n",
       "      <th>0</th>\n",
       "      <td>Dick Johnson Is Dead</td>\n",
       "      <td>Kirsten Johnson</td>\n",
       "    </tr>\n",
       "    <tr>\n",
       "      <th>1</th>\n",
       "      <td>Extraction</td>\n",
       "      <td>Steven C. Miller</td>\n",
       "    </tr>\n",
       "    <tr>\n",
       "      <th>2</th>\n",
       "      <td>Prime Time</td>\n",
       "      <td>Jakub Piątek</td>\n",
       "    </tr>\n",
       "    <tr>\n",
       "      <th>3</th>\n",
       "      <td>Blue Miracle</td>\n",
       "      <td>Julio Quintana</td>\n",
       "    </tr>\n",
       "    <tr>\n",
       "      <th>4</th>\n",
       "      <td>Ghost Lab</td>\n",
       "      <td>Paween Purijitpanya</td>\n",
       "    </tr>\n",
       "    <tr>\n",
       "      <th>...</th>\n",
       "      <td>...</td>\n",
       "      <td>...</td>\n",
       "    </tr>\n",
       "    <tr>\n",
       "      <th>508</th>\n",
       "      <td>Tig</td>\n",
       "      <td>Kristina Goolsby, Ashley York</td>\n",
       "    </tr>\n",
       "    <tr>\n",
       "      <th>509</th>\n",
       "      <td>What Happened, Miss Simone?</td>\n",
       "      <td>Liz Garbus</td>\n",
       "    </tr>\n",
       "    <tr>\n",
       "      <th>510</th>\n",
       "      <td>Hot Girls Wanted</td>\n",
       "      <td>Jill Bauer, Ronna Gradus</td>\n",
       "    </tr>\n",
       "    <tr>\n",
       "      <th>511</th>\n",
       "      <td>The Other One: The Long Strange Trip of Bob Weir</td>\n",
       "      <td>Mike Fleiss</td>\n",
       "    </tr>\n",
       "    <tr>\n",
       "      <th>512</th>\n",
       "      <td>My Own Man</td>\n",
       "      <td>David Sampliner</td>\n",
       "    </tr>\n",
       "  </tbody>\n",
       "</table>\n",
       "<p>513 rows × 2 columns</p>\n",
       "</div>"
      ],
      "text/plain": [
       "                                                title  \\\n",
       "0                                Dick Johnson Is Dead   \n",
       "1                                          Extraction   \n",
       "2                                          Prime Time   \n",
       "3                                        Blue Miracle   \n",
       "4                                           Ghost Lab   \n",
       "..                                                ...   \n",
       "508                                               Tig   \n",
       "509                       What Happened, Miss Simone?   \n",
       "510                                  Hot Girls Wanted   \n",
       "511  The Other One: The Long Strange Trip of Bob Weir   \n",
       "512                                        My Own Man   \n",
       "\n",
       "                          director  \n",
       "0                  Kirsten Johnson  \n",
       "1                 Steven C. Miller  \n",
       "2                     Jakub Piątek  \n",
       "3                   Julio Quintana  \n",
       "4              Paween Purijitpanya  \n",
       "..                             ...  \n",
       "508  Kristina Goolsby, Ashley York  \n",
       "509                     Liz Garbus  \n",
       "510       Jill Bauer, Ronna Gradus  \n",
       "511                    Mike Fleiss  \n",
       "512                David Sampliner  \n",
       "\n",
       "[513 rows x 2 columns]"
      ]
     },
     "execution_count": 40,
     "metadata": {},
     "output_type": "execute_result"
    }
   ],
   "source": [
    "df_concat.loc[df_concat[\"release_year\"] == 2018, [\"title\", \"listed_in\"]]"
   ]
  },
  {
   "cell_type": "markdown",
   "metadata": {},
   "source": [
    "3.1.6 Selecciona las filas donde la columna director esté vacía y muestra solo los títulos (title)."
   ]
  },
  {
   "cell_type": "code",
   "execution_count": null,
   "metadata": {},
   "outputs": [],
   "source": [
    "df_concat.loc[df_concat[\"director\"] == \"\", [\"title\"]]\n"
   ]
  },
  {
   "cell_type": "markdown",
   "metadata": {},
   "source": [
    "3.2.1 Selecciona las primeras 5 filas del conjunto de datos y muestra solo las columnas title, director y country.\n"
   ]
  },
  {
   "cell_type": "code",
   "execution_count": null,
   "metadata": {},
   "outputs": [],
   "source": [
    "df_concat.columns"
   ]
  },
  {
   "cell_type": "code",
   "execution_count": null,
   "metadata": {},
   "outputs": [],
   "source": [
    "df_concat.iloc[:6,[2,3,5]]"
   ]
  },
  {
   "cell_type": "markdown",
   "metadata": {},
   "source": [
    "3.2.2  - Muestra las últimas 5 filas del conjunto de datos y selecciona las columnas title y description."
   ]
  },
  {
   "cell_type": "code",
   "execution_count": null,
   "metadata": {},
   "outputs": [],
   "source": [
    "df_concat.iloc[-5:,[2,11]]"
   ]
  },
  {
   "cell_type": "markdown",
   "metadata": {},
   "source": [
    "3.2.3 Selecciona las primeras 10 filas del dataset y muestra las columnas desde la segunda hasta la quinta (incluidas). "
   ]
  },
  {
   "cell_type": "code",
   "execution_count": null,
   "metadata": {},
   "outputs": [],
   "source": [
    "df_concat.iloc[10,2:6]"
   ]
  },
  {
   "cell_type": "markdown",
   "metadata": {},
   "source": [
    "3.2.4   - Muestra las últimas 7 filas del dataset y selecciona las columnas title, director, y country usando índices posicionales."
   ]
  },
  {
   "cell_type": "code",
   "execution_count": null,
   "metadata": {},
   "outputs": [],
   "source": [
    "df_concat.iloc[-7:,[2,3,5]]"
   ]
  },
  {
   "cell_type": "markdown",
   "metadata": {},
   "source": [
    "3.2.5 Selecciona las filas desde la 15 hasta la 25 (incluidas) y muestra las primeras 4 columnas."
   ]
  },
  {
   "cell_type": "code",
   "execution_count": null,
   "metadata": {},
   "outputs": [],
   "source": [
    "df_concat.iloc[15:26,0:5]"
   ]
  },
  {
   "cell_type": "markdown",
   "metadata": {},
   "source": [
    "3.2.6 Muestra las filas 20 a 30 y solo las columnas title, release_year, y rating usando índices posicionales."
   ]
  },
  {
   "cell_type": "code",
   "execution_count": null,
   "metadata": {},
   "outputs": [],
   "source": [
    "df_concat.iloc[20:31:,[2,7,8]]"
   ]
  }
 ],
 "metadata": {
  "kernelspec": {
   "display_name": "base",
   "language": "python",
   "name": "python3"
  },
  "language_info": {
   "codemirror_mode": {
    "name": "ipython",
    "version": 3
   },
   "file_extension": ".py",
   "mimetype": "text/x-python",
   "name": "python",
   "nbconvert_exporter": "python",
   "pygments_lexer": "ipython3",
   "version": "3.11.7"
  }
 },
 "nbformat": 4,
 "nbformat_minor": 2
}
