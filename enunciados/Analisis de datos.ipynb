{
 "cells": [
  {
   "cell_type": "code",
   "execution_count": 2,
   "metadata": {},
   "outputs": [],
   "source": [
    "import pandas as pd\n",
    "import numpy as np"
   ]
  },
  {
   "cell_type": "markdown",
   "metadata": {},
   "source": [
    "### Netflix_originals"
   ]
  },
  {
   "cell_type": "markdown",
   "metadata": {},
   "source": [
    "# Información sobre el dataframe netflix_originals:\n",
    "- Este dataframe contiene información sobre los títulos provenientes de netflix originals. Incluye detalles sobre el título, el género, la fecha de lanzamiento, duración y notas en IMDB, así como el idioma \n",
    "\n",
    "- Tenemos un df con 7 columnas y 513 observaciones totales.\n",
    "- Todos los datos corresponden al sentido común y tienen el tipo adecuado.\n",
    "- Eliminada columna Unnamed:0, pues no aporta al ser un índice redundante.\n",
    "- No hay valores duplicados generales. Tampoco hay títulos iguales en diferentes idiomas no registrados como tal.\n",
    "- Los principales géneros de películas son documentales (24,7%), drama (14,2%) y comedias (8,1%). Los menos comunes son animación, comedias sobre danza y animación. Todas con un 1,9% del total.\n",
    " -- (Para un futuro me gustaría implementar un método de separación de géneros para aumentar la precisión)\n",
    "- No existen datos nulos en la base.\n",
    "- La media de duración de cada show es de una hora y media (94 minutos)\n"
   ]
  },
  {
   "cell_type": "code",
   "execution_count": 2,
   "metadata": {},
   "outputs": [],
   "source": [
    "import pandas as pd"
   ]
  },
  {
   "cell_type": "code",
   "execution_count": 3,
   "metadata": {},
   "outputs": [
    {
     "data": {
      "text/html": [
       "<div>\n",
       "<style scoped>\n",
       "    .dataframe tbody tr th:only-of-type {\n",
       "        vertical-align: middle;\n",
       "    }\n",
       "\n",
       "    .dataframe tbody tr th {\n",
       "        vertical-align: top;\n",
       "    }\n",
       "\n",
       "    .dataframe thead th {\n",
       "        text-align: right;\n",
       "    }\n",
       "</style>\n",
       "<table border=\"1\" class=\"dataframe\">\n",
       "  <thead>\n",
       "    <tr style=\"text-align: right;\">\n",
       "      <th></th>\n",
       "      <th>Unnamed: 0</th>\n",
       "      <th>Title</th>\n",
       "      <th>Genre</th>\n",
       "      <th>Premiere</th>\n",
       "      <th>Runtime</th>\n",
       "      <th>IMDB Score</th>\n",
       "      <th>Language</th>\n",
       "    </tr>\n",
       "  </thead>\n",
       "  <tbody>\n",
       "    <tr>\n",
       "      <th>0</th>\n",
       "      <td>0</td>\n",
       "      <td>Enter the Anime</td>\n",
       "      <td>Documentary</td>\n",
       "      <td>August 5, 2019</td>\n",
       "      <td>58</td>\n",
       "      <td>2.5</td>\n",
       "      <td>English/Japanese</td>\n",
       "    </tr>\n",
       "    <tr>\n",
       "      <th>1</th>\n",
       "      <td>1</td>\n",
       "      <td>Dark Forces</td>\n",
       "      <td>Thriller</td>\n",
       "      <td>August 21, 2020</td>\n",
       "      <td>81</td>\n",
       "      <td>2.6</td>\n",
       "      <td>Spanish</td>\n",
       "    </tr>\n",
       "    <tr>\n",
       "      <th>2</th>\n",
       "      <td>2</td>\n",
       "      <td>The App</td>\n",
       "      <td>Science fiction/Drama</td>\n",
       "      <td>December 26, 2019</td>\n",
       "      <td>79</td>\n",
       "      <td>2.6</td>\n",
       "      <td>Italian</td>\n",
       "    </tr>\n",
       "    <tr>\n",
       "      <th>3</th>\n",
       "      <td>3</td>\n",
       "      <td>The Open House</td>\n",
       "      <td>Horror thriller</td>\n",
       "      <td>January 19, 2018</td>\n",
       "      <td>94</td>\n",
       "      <td>3.2</td>\n",
       "      <td>English</td>\n",
       "    </tr>\n",
       "    <tr>\n",
       "      <th>4</th>\n",
       "      <td>4</td>\n",
       "      <td>Kaali Khuhi</td>\n",
       "      <td>Mystery</td>\n",
       "      <td>October 30, 2020</td>\n",
       "      <td>90</td>\n",
       "      <td>3.4</td>\n",
       "      <td>Hindi</td>\n",
       "    </tr>\n",
       "  </tbody>\n",
       "</table>\n",
       "</div>"
      ],
      "text/plain": [
       "   Unnamed: 0            Title                  Genre           Premiere  \\\n",
       "0           0  Enter the Anime            Documentary     August 5, 2019   \n",
       "1           1      Dark Forces               Thriller    August 21, 2020   \n",
       "2           2          The App  Science fiction/Drama  December 26, 2019   \n",
       "3           3   The Open House        Horror thriller   January 19, 2018   \n",
       "4           4      Kaali Khuhi                Mystery   October 30, 2020   \n",
       "\n",
       "   Runtime  IMDB Score          Language  \n",
       "0       58         2.5  English/Japanese  \n",
       "1       81         2.6           Spanish  \n",
       "2       79         2.6           Italian  \n",
       "3       94         3.2           English  \n",
       "4       90         3.4             Hindi  "
      ]
     },
     "execution_count": 3,
     "metadata": {},
     "output_type": "execute_result"
    }
   ],
   "source": [
    "df_originals = pd.read_csv(\"..\\lab2_m2_pandas\\datos/netflix_originals.csv\") \n",
    "df_originals.head(5)"
   ]
  },
  {
   "cell_type": "code",
   "execution_count": null,
   "metadata": {},
   "outputs": [],
   "source": [
    "df_originals.info"
   ]
  },
  {
   "cell_type": "code",
   "execution_count": null,
   "metadata": {},
   "outputs": [],
   "source": [
    "df_originals.dtypes"
   ]
  },
  {
   "cell_type": "code",
   "execution_count": 6,
   "metadata": {},
   "outputs": [],
   "source": [
    "#Dropeo fila unnamed:0 porque contiene valores no válidos\n",
    "df_originals.drop (columns = [\"Unnamed: 0\"], inplace=True)"
   ]
  },
  {
   "cell_type": "code",
   "execution_count": null,
   "metadata": {},
   "outputs": [],
   "source": [
    "#Valores duplicados generales\n",
    "df_originals.duplicated().sum()\n",
    "#Valores duplicados por título\n",
    "df_originals.duplicated(subset = \"Title\").sum()"
   ]
  },
  {
   "cell_type": "code",
   "execution_count": null,
   "metadata": {},
   "outputs": [],
   "source": [
    "#Géneros más populares\n",
    "df_originals[\"Genre\"].value_counts(1)       "
   ]
  },
  {
   "cell_type": "code",
   "execution_count": 118,
   "metadata": {},
   "outputs": [
    {
     "ename": "TypeError",
     "evalue": "Could not convert string '201920202019201820202019202020202018202120202020202020162019202020202021201720192019202120212020202120202021201820192016201920192020202020202019202120202020202020202017202020202017202020152020202020192020202020182020201620212020201720202018202120202019202020182019202120172017202020182019201720192021201920202018201820192020202020202018202120182019201620202019201920182020201920212017202120202020201520182019202120192019201920202018202120212018201820192018201820192019201720162021201920182020202020202019202120202020202020202021202120212017202020172019202020192019201720202018201920212016201820212020201920192020201720202019201620182020202020182018202120192016202020182020202020172017201620182018202020202019202020202018202020182021201820192020202020202021201820202016202020182018201920192020202020202018201820202017201920192017201720172020201920152018202020192016202020202021202120172020201720192020202020202021202120202020201920192020202020202018201920202018201820172017201920182018201820172018202120202021202120192021202020192017201720162017201720192019201920182020201920202020201620192018201920182020202020212020201420182020201920172018202120172020202020192018201920172018201920202020201920202019202020212020201720202020201920182021201820202017202120182017202020172021201820202021201920162020201920212018201820202021201820182020201920212020202120212019202120212020202020202020201720202019202120212021202120162020201620192018201620182020202020192020201820202020202020172018201720202020202020202018201720212020201620212020201720172017201820212018202020202019201920172018201720172019201920202020201920192019201720192020201820192018201820202019202020202018201820192021201920202017201520182016201720212018202020212019202120202016201720162020201820192018201920182019202120192019201620182019201920162020201720202020202020172018202020192019202020202016201620182017201620152019201920172020201920202018201920192020201520182020201920172018201620202020201820192018202020192015202020152020202020192020202020172019201620172020202020192021202020172019201520182020' to numeric",
     "output_type": "error",
     "traceback": [
      "\u001b[1;31m---------------------------------------------------------------------------\u001b[0m",
      "\u001b[1;31mTypeError\u001b[0m                                 Traceback (most recent call last)",
      "Cell \u001b[1;32mIn[118], line 7\u001b[0m\n\u001b[0;32m      4\u001b[0m patron_yr \u001b[38;5;241m=\u001b[39m \u001b[38;5;124mr\u001b[39m\u001b[38;5;124m\"\u001b[39m\u001b[38;5;124m\\\u001b[39m\u001b[38;5;124ms\u001b[39m\u001b[38;5;124m\"\u001b[39m\n\u001b[0;32m      5\u001b[0m df_originals[[\u001b[38;5;124m\"\u001b[39m\u001b[38;5;124mMes\u001b[39m\u001b[38;5;124m\"\u001b[39m, \u001b[38;5;124m\"\u001b[39m\u001b[38;5;124mAño\u001b[39m\u001b[38;5;124m\"\u001b[39m]] \u001b[38;5;241m=\u001b[39m  df_originals[\u001b[38;5;124m\"\u001b[39m\u001b[38;5;124mPremiere\u001b[39m\u001b[38;5;124m\"\u001b[39m]\u001b[38;5;241m.\u001b[39mstr\u001b[38;5;241m.\u001b[39msplit(patron_yr,expand \u001b[38;5;241m=\u001b[39m \u001b[38;5;28;01mTrue\u001b[39;00m)\u001b[38;5;241m.\u001b[39mget([\u001b[38;5;241m0\u001b[39m,\u001b[38;5;241m2\u001b[39m])\n\u001b[1;32m----> 7\u001b[0m df_originals[\u001b[38;5;124m\"\u001b[39m\u001b[38;5;124mAño\u001b[39m\u001b[38;5;124m\"\u001b[39m]\u001b[38;5;241m.\u001b[39mmean()\n",
      "File \u001b[1;32mc:\\Users\\Víctor\\anaconda3\\Lib\\site-packages\\pandas\\core\\series.py:6225\u001b[0m, in \u001b[0;36mSeries.mean\u001b[1;34m(self, axis, skipna, numeric_only, **kwargs)\u001b[0m\n\u001b[0;32m   6217\u001b[0m \u001b[38;5;129m@doc\u001b[39m(make_doc(\u001b[38;5;124m\"\u001b[39m\u001b[38;5;124mmean\u001b[39m\u001b[38;5;124m\"\u001b[39m, ndim\u001b[38;5;241m=\u001b[39m\u001b[38;5;241m1\u001b[39m))\n\u001b[0;32m   6218\u001b[0m \u001b[38;5;28;01mdef\u001b[39;00m \u001b[38;5;21mmean\u001b[39m(\n\u001b[0;32m   6219\u001b[0m     \u001b[38;5;28mself\u001b[39m,\n\u001b[1;32m   (...)\u001b[0m\n\u001b[0;32m   6223\u001b[0m     \u001b[38;5;241m*\u001b[39m\u001b[38;5;241m*\u001b[39mkwargs,\n\u001b[0;32m   6224\u001b[0m ):\n\u001b[1;32m-> 6225\u001b[0m     \u001b[38;5;28;01mreturn\u001b[39;00m NDFrame\u001b[38;5;241m.\u001b[39mmean(\u001b[38;5;28mself\u001b[39m, axis, skipna, numeric_only, \u001b[38;5;241m*\u001b[39m\u001b[38;5;241m*\u001b[39mkwargs)\n",
      "File \u001b[1;32mc:\\Users\\Víctor\\anaconda3\\Lib\\site-packages\\pandas\\core\\generic.py:11992\u001b[0m, in \u001b[0;36mNDFrame.mean\u001b[1;34m(self, axis, skipna, numeric_only, **kwargs)\u001b[0m\n\u001b[0;32m  11985\u001b[0m \u001b[38;5;28;01mdef\u001b[39;00m \u001b[38;5;21mmean\u001b[39m(\n\u001b[0;32m  11986\u001b[0m     \u001b[38;5;28mself\u001b[39m,\n\u001b[0;32m  11987\u001b[0m     axis: Axis \u001b[38;5;241m|\u001b[39m \u001b[38;5;28;01mNone\u001b[39;00m \u001b[38;5;241m=\u001b[39m \u001b[38;5;241m0\u001b[39m,\n\u001b[1;32m   (...)\u001b[0m\n\u001b[0;32m  11990\u001b[0m     \u001b[38;5;241m*\u001b[39m\u001b[38;5;241m*\u001b[39mkwargs,\n\u001b[0;32m  11991\u001b[0m ) \u001b[38;5;241m-\u001b[39m\u001b[38;5;241m>\u001b[39m Series \u001b[38;5;241m|\u001b[39m \u001b[38;5;28mfloat\u001b[39m:\n\u001b[1;32m> 11992\u001b[0m     \u001b[38;5;28;01mreturn\u001b[39;00m \u001b[38;5;28mself\u001b[39m\u001b[38;5;241m.\u001b[39m_stat_function(\n\u001b[0;32m  11993\u001b[0m         \u001b[38;5;124m\"\u001b[39m\u001b[38;5;124mmean\u001b[39m\u001b[38;5;124m\"\u001b[39m, nanops\u001b[38;5;241m.\u001b[39mnanmean, axis, skipna, numeric_only, \u001b[38;5;241m*\u001b[39m\u001b[38;5;241m*\u001b[39mkwargs\n\u001b[0;32m  11994\u001b[0m     )\n",
      "File \u001b[1;32mc:\\Users\\Víctor\\anaconda3\\Lib\\site-packages\\pandas\\core\\generic.py:11949\u001b[0m, in \u001b[0;36mNDFrame._stat_function\u001b[1;34m(self, name, func, axis, skipna, numeric_only, **kwargs)\u001b[0m\n\u001b[0;32m  11945\u001b[0m nv\u001b[38;5;241m.\u001b[39mvalidate_func(name, (), kwargs)\n\u001b[0;32m  11947\u001b[0m validate_bool_kwarg(skipna, \u001b[38;5;124m\"\u001b[39m\u001b[38;5;124mskipna\u001b[39m\u001b[38;5;124m\"\u001b[39m, none_allowed\u001b[38;5;241m=\u001b[39m\u001b[38;5;28;01mFalse\u001b[39;00m)\n\u001b[1;32m> 11949\u001b[0m \u001b[38;5;28;01mreturn\u001b[39;00m \u001b[38;5;28mself\u001b[39m\u001b[38;5;241m.\u001b[39m_reduce(\n\u001b[0;32m  11950\u001b[0m     func, name\u001b[38;5;241m=\u001b[39mname, axis\u001b[38;5;241m=\u001b[39maxis, skipna\u001b[38;5;241m=\u001b[39mskipna, numeric_only\u001b[38;5;241m=\u001b[39mnumeric_only\n\u001b[0;32m  11951\u001b[0m )\n",
      "File \u001b[1;32mc:\\Users\\Víctor\\anaconda3\\Lib\\site-packages\\pandas\\core\\series.py:6133\u001b[0m, in \u001b[0;36mSeries._reduce\u001b[1;34m(self, op, name, axis, skipna, numeric_only, filter_type, **kwds)\u001b[0m\n\u001b[0;32m   6128\u001b[0m     \u001b[38;5;66;03m# GH#47500 - change to TypeError to match other methods\u001b[39;00m\n\u001b[0;32m   6129\u001b[0m     \u001b[38;5;28;01mraise\u001b[39;00m \u001b[38;5;167;01mTypeError\u001b[39;00m(\n\u001b[0;32m   6130\u001b[0m         \u001b[38;5;124mf\u001b[39m\u001b[38;5;124m\"\u001b[39m\u001b[38;5;124mSeries.\u001b[39m\u001b[38;5;132;01m{\u001b[39;00mname\u001b[38;5;132;01m}\u001b[39;00m\u001b[38;5;124m does not allow \u001b[39m\u001b[38;5;132;01m{\u001b[39;00mkwd_name\u001b[38;5;132;01m}\u001b[39;00m\u001b[38;5;124m=\u001b[39m\u001b[38;5;132;01m{\u001b[39;00mnumeric_only\u001b[38;5;132;01m}\u001b[39;00m\u001b[38;5;124m \u001b[39m\u001b[38;5;124m\"\u001b[39m\n\u001b[0;32m   6131\u001b[0m         \u001b[38;5;124m\"\u001b[39m\u001b[38;5;124mwith non-numeric dtypes.\u001b[39m\u001b[38;5;124m\"\u001b[39m\n\u001b[0;32m   6132\u001b[0m     )\n\u001b[1;32m-> 6133\u001b[0m \u001b[38;5;28;01mreturn\u001b[39;00m op(delegate, skipna\u001b[38;5;241m=\u001b[39mskipna, \u001b[38;5;241m*\u001b[39m\u001b[38;5;241m*\u001b[39mkwds)\n",
      "File \u001b[1;32mc:\\Users\\Víctor\\anaconda3\\Lib\\site-packages\\pandas\\core\\nanops.py:147\u001b[0m, in \u001b[0;36mbottleneck_switch.__call__.<locals>.f\u001b[1;34m(values, axis, skipna, **kwds)\u001b[0m\n\u001b[0;32m    145\u001b[0m         result \u001b[38;5;241m=\u001b[39m alt(values, axis\u001b[38;5;241m=\u001b[39maxis, skipna\u001b[38;5;241m=\u001b[39mskipna, \u001b[38;5;241m*\u001b[39m\u001b[38;5;241m*\u001b[39mkwds)\n\u001b[0;32m    146\u001b[0m \u001b[38;5;28;01melse\u001b[39;00m:\n\u001b[1;32m--> 147\u001b[0m     result \u001b[38;5;241m=\u001b[39m alt(values, axis\u001b[38;5;241m=\u001b[39maxis, skipna\u001b[38;5;241m=\u001b[39mskipna, \u001b[38;5;241m*\u001b[39m\u001b[38;5;241m*\u001b[39mkwds)\n\u001b[0;32m    149\u001b[0m \u001b[38;5;28;01mreturn\u001b[39;00m result\n",
      "File \u001b[1;32mc:\\Users\\Víctor\\anaconda3\\Lib\\site-packages\\pandas\\core\\nanops.py:404\u001b[0m, in \u001b[0;36m_datetimelike_compat.<locals>.new_func\u001b[1;34m(values, axis, skipna, mask, **kwargs)\u001b[0m\n\u001b[0;32m    401\u001b[0m \u001b[38;5;28;01mif\u001b[39;00m datetimelike \u001b[38;5;129;01mand\u001b[39;00m mask \u001b[38;5;129;01mis\u001b[39;00m \u001b[38;5;28;01mNone\u001b[39;00m:\n\u001b[0;32m    402\u001b[0m     mask \u001b[38;5;241m=\u001b[39m isna(values)\n\u001b[1;32m--> 404\u001b[0m result \u001b[38;5;241m=\u001b[39m func(values, axis\u001b[38;5;241m=\u001b[39maxis, skipna\u001b[38;5;241m=\u001b[39mskipna, mask\u001b[38;5;241m=\u001b[39mmask, \u001b[38;5;241m*\u001b[39m\u001b[38;5;241m*\u001b[39mkwargs)\n\u001b[0;32m    406\u001b[0m \u001b[38;5;28;01mif\u001b[39;00m datetimelike:\n\u001b[0;32m    407\u001b[0m     result \u001b[38;5;241m=\u001b[39m _wrap_results(result, orig_values\u001b[38;5;241m.\u001b[39mdtype, fill_value\u001b[38;5;241m=\u001b[39miNaT)\n",
      "File \u001b[1;32mc:\\Users\\Víctor\\anaconda3\\Lib\\site-packages\\pandas\\core\\nanops.py:720\u001b[0m, in \u001b[0;36mnanmean\u001b[1;34m(values, axis, skipna, mask)\u001b[0m\n\u001b[0;32m    718\u001b[0m count \u001b[38;5;241m=\u001b[39m _get_counts(values\u001b[38;5;241m.\u001b[39mshape, mask, axis, dtype\u001b[38;5;241m=\u001b[39mdtype_count)\n\u001b[0;32m    719\u001b[0m the_sum \u001b[38;5;241m=\u001b[39m values\u001b[38;5;241m.\u001b[39msum(axis, dtype\u001b[38;5;241m=\u001b[39mdtype_sum)\n\u001b[1;32m--> 720\u001b[0m the_sum \u001b[38;5;241m=\u001b[39m _ensure_numeric(the_sum)\n\u001b[0;32m    722\u001b[0m \u001b[38;5;28;01mif\u001b[39;00m axis \u001b[38;5;129;01mis\u001b[39;00m \u001b[38;5;129;01mnot\u001b[39;00m \u001b[38;5;28;01mNone\u001b[39;00m \u001b[38;5;129;01mand\u001b[39;00m \u001b[38;5;28mgetattr\u001b[39m(the_sum, \u001b[38;5;124m\"\u001b[39m\u001b[38;5;124mndim\u001b[39m\u001b[38;5;124m\"\u001b[39m, \u001b[38;5;28;01mFalse\u001b[39;00m):\n\u001b[0;32m    723\u001b[0m     count \u001b[38;5;241m=\u001b[39m cast(np\u001b[38;5;241m.\u001b[39mndarray, count)\n",
      "File \u001b[1;32mc:\\Users\\Víctor\\anaconda3\\Lib\\site-packages\\pandas\\core\\nanops.py:1693\u001b[0m, in \u001b[0;36m_ensure_numeric\u001b[1;34m(x)\u001b[0m\n\u001b[0;32m   1690\u001b[0m \u001b[38;5;28;01melif\u001b[39;00m \u001b[38;5;129;01mnot\u001b[39;00m (is_float(x) \u001b[38;5;129;01mor\u001b[39;00m is_integer(x) \u001b[38;5;129;01mor\u001b[39;00m is_complex(x)):\n\u001b[0;32m   1691\u001b[0m     \u001b[38;5;28;01mif\u001b[39;00m \u001b[38;5;28misinstance\u001b[39m(x, \u001b[38;5;28mstr\u001b[39m):\n\u001b[0;32m   1692\u001b[0m         \u001b[38;5;66;03m# GH#44008, GH#36703 avoid casting e.g. strings to numeric\u001b[39;00m\n\u001b[1;32m-> 1693\u001b[0m         \u001b[38;5;28;01mraise\u001b[39;00m \u001b[38;5;167;01mTypeError\u001b[39;00m(\u001b[38;5;124mf\u001b[39m\u001b[38;5;124m\"\u001b[39m\u001b[38;5;124mCould not convert string \u001b[39m\u001b[38;5;124m'\u001b[39m\u001b[38;5;132;01m{\u001b[39;00mx\u001b[38;5;132;01m}\u001b[39;00m\u001b[38;5;124m'\u001b[39m\u001b[38;5;124m to numeric\u001b[39m\u001b[38;5;124m\"\u001b[39m)\n\u001b[0;32m   1694\u001b[0m     \u001b[38;5;28;01mtry\u001b[39;00m:\n\u001b[0;32m   1695\u001b[0m         x \u001b[38;5;241m=\u001b[39m \u001b[38;5;28mfloat\u001b[39m(x)\n",
      "\u001b[1;31mTypeError\u001b[0m: Could not convert string '201920202019201820202019202020202018202120202020202020162019202020202021201720192019202120212020202120202021201820192016201920192020202020202019202120202020202020202017202020202017202020152020202020192020202020182020201620212020201720202018202120202019202020182019202120172017202020182019201720192021201920202018201820192020202020202018202120182019201620202019201920182020201920212017202120202020201520182019202120192019201920202018202120212018201820192018201820192019201720162021201920182020202020202019202120202020202020202021202120212017202020172019202020192019201720202018201920212016201820212020201920192020201720202019201620182020202020182018202120192016202020182020202020172017201620182018202020202019202020202018202020182021201820192020202020202021201820202016202020182018201920192020202020202018201820202017201920192017201720172020201920152018202020192016202020202021202120172020201720192020202020202021202120202020201920192020202020202018201920202018201820172017201920182018201820172018202120202021202120192021202020192017201720162017201720192019201920182020201920202020201620192018201920182020202020212020201420182020201920172018202120172020202020192018201920172018201920202020201920202019202020212020201720202020201920182021201820202017202120182017202020172021201820202021201920162020201920212018201820202021201820182020201920212020202120212019202120212020202020202020201720202019202120212021202120162020201620192018201620182020202020192020201820202020202020172018201720202020202020202018201720212020201620212020201720172017201820212018202020202019201920172018201720172019201920202020201920192019201720192020201820192018201820202019202020202018201820192021201920202017201520182016201720212018202020212019202120202016201720162020201820192018201920182019202120192019201620182019201920162020201720202020202020172018202020192019202020202016201620182017201620152019201920172020201920202018201920192020201520182020201920172018201620202020201820192018202020192015202020152020202020192020202020172019201620172020202020192021202020172019201520182020' to numeric"
     ]
    }
   ],
   "source": [
    "import re\n",
    "df_fechalanz = df_originals[\"Premiere\"]\n",
    "\n",
    "patron_yr = r\"\\s\"\n",
    "df_originals[[\"Mes\", \"Año\"]] =  df_originals[\"Premiere\"].str.split(patron_yr,expand = True).get([0,2])\n",
    "\n",
    "#He intentado coger al año max y mínimo, pero me coge el string y no sé cambiarlo a INT aún\n",
    "df_originals[\"Año\"].mean() \n"
   ]
  },
  {
   "cell_type": "code",
   "execution_count": null,
   "metadata": {},
   "outputs": [],
   "source": [
    "#Valores nulos\n",
    "np.round(df_originals.isnull().sum())"
   ]
  },
  {
   "cell_type": "code",
   "execution_count": null,
   "metadata": {},
   "outputs": [],
   "source": [
    "df_originals.groupby(\"Genre\")[\"Runtime\"].mean()"
   ]
  },
  {
   "cell_type": "markdown",
   "metadata": {},
   "source": [
    "### Netflix_titles"
   ]
  },
  {
   "cell_type": "code",
   "execution_count": 35,
   "metadata": {},
   "outputs": [],
   "source": [
    "df_titles = pd.read_csv(\"..\\lab2_m2_pandas\\datos/netflix_titles.csv\") "
   ]
  },
  {
   "cell_type": "markdown",
   "metadata": {},
   "source": [
    "# Analisis dataframe netflix titles"
   ]
  },
  {
   "cell_type": "code",
   "execution_count": 119,
   "metadata": {},
   "outputs": [
    {
     "data": {
      "text/plain": [
       "Index(['show_id', 'type', 'title', 'director', 'cast', 'country', 'date_added',\n",
       "       'release_year', 'rating', 'duration', 'listed_in', 'description'],\n",
       "      dtype='object')"
      ]
     },
     "execution_count": 119,
     "metadata": {},
     "output_type": "execute_result"
    }
   ],
   "source": [
    "df_titles.columns"
   ]
  },
  {
   "cell_type": "code",
   "execution_count": 93,
   "metadata": {},
   "outputs": [
    {
     "data": {
      "text/plain": [
       "(8807, 13)"
      ]
     },
     "execution_count": 93,
     "metadata": {},
     "output_type": "execute_result"
    }
   ],
   "source": []
  },
  {
   "cell_type": "code",
   "execution_count": 91,
   "metadata": {},
   "outputs": [
    {
     "data": {
      "text/plain": [
       "Unnamed: 0      int64\n",
       "Title          object\n",
       "Genre          object\n",
       "Premiere       object\n",
       "Runtime         int64\n",
       "IMDB Score    float64\n",
       "Language       object\n",
       "dtype: object"
      ]
     },
     "execution_count": 91,
     "metadata": {},
     "output_type": "execute_result"
    }
   ],
   "source": [
    "df_originals.dtypes"
   ]
  },
  {
   "cell_type": "code",
   "execution_count": 95,
   "metadata": {},
   "outputs": [],
   "source": [
    "df_titles.drop (columns = [\"Unnamed: 0\"], inplace=True)"
   ]
  },
  {
   "cell_type": "code",
   "execution_count": 97,
   "metadata": {},
   "outputs": [
    {
     "data": {
      "text/plain": [
       "0      False\n",
       "1      False\n",
       "2      False\n",
       "3      False\n",
       "4      False\n",
       "       ...  \n",
       "508    False\n",
       "509    False\n",
       "510    False\n",
       "511    False\n",
       "512    False\n",
       "Length: 513, dtype: bool"
      ]
     },
     "execution_count": 97,
     "metadata": {},
     "output_type": "execute_result"
    }
   ],
   "source": [
    "df_originals.duplicated().sum()"
   ]
  },
  {
   "cell_type": "code",
   "execution_count": 105,
   "metadata": {},
   "outputs": [
    {
     "data": {
      "text/plain": [
       "show_id  type   title                        director         cast                                                                                                                                                                                              country        date_added          release_year  rating  duration  listed_in                                       description                                                                                                                                            \n",
       "s10      Movie  The Starling                 Theodore Melfi   Melissa McCarthy, Chris O'Dowd, Kevin Kline, Timothy Olyphant, Daveed Diggs, Skyler Gisondo, Laura Harrier, Rosalind Chao, Kimberly Quinn, Loretta Devine, Ravi Kapoor                            United States  September 24, 2021  2021          PG-13   104 min   Comedies, Dramas                                A woman adjusting to life after a loss contends with a feisty bird that's taken over her garden — and a husband who's struggling to find a way forward.    1\n",
       "s6370    Movie  Brampton's Own               Michael Doneger  Alex Russell, Rose McIver, Jean Smart, Scott Porter, Kevin Linehan, Spencer Grammer, Carter Hastings, Riley Voelkel, John Getz                                                                    United States  April 19, 2019      2018          TV-MA   90 min    Dramas, Romantic Movies, Sports Movies          After 12 years in the minors, a struggling baseball player retires, returns home and faces the last person he struck out with – his ex-girlfriend.         1\n",
       "s6376    Movie  Breath                       Simon Baker      Samson Coulter, Ben Spence, Simon Baker, Elizabeth Debicki, Richard Roxburgh, Rachael Blake, Jacek Koman                                                                                          Australia      December 5, 2018    2018          TV-MA   116 min   Dramas, Sports Movies                           In mid-1970s Australia, two small-town teenage boys befriend an enigmatic middle-aged surfer, who urges them to see the thrill in facing their fears.      1\n",
       "s6377    Movie  Brick                        Rian Johnson     Joseph Gordon-Levitt, Nora Zehetner, Lukas Haas, Noah Fleiss, Matt O'Leary, Emilie de Ravin, Noah Segan, Richard Roundtree, Meagan Good, Brian White                                              United States  September 1, 2018   2005          R       110 min   Independent Movies, Thrillers                   Teenage loner Brendan Fry navigates his high school's intense social network to discover a killer's identity after his secret crush is murdered.           1\n",
       "s6380    Movie  Brooklyn's Finest            Antoine Fuqua    Richard Gere, Don Cheadle, Ethan Hawke, Wesley Snipes, Will Patton, Lili Taylor, Michael Kenneth Williams, Brían F. O'Byrne, Shannon Kane, Ellen Barkin, Vincent D'Onofrio, Logan Marshall-Green  United States  October 1, 2018     2009          R       133 min   Dramas, Thrillers                               Three cops find themselves hurtling toward the same crime scene on one fatal night in this tense, edge-of your-seat thriller.                              1\n",
       "                                                                                                                                                                                                                                                                                                                                                                                                                                                                                                                                             ..\n",
       "s3866    Movie  Jo Pil-ho: The Dawning Rage  Lee Jeong-beom   Lee Sun-kyun, Jeon So-nee, Park Hae-joon, Song Young-chang, Park Byung-eun, Lim Hyung-kuk, Kim Min-jae, Kwon Han-sol, Nam Mun-cheol, Lim Cheol-su                                                 South Korea    May 3, 2019         2018          TV-MA   128 min   Dramas, International Movies, Thrillers         On the run from a dogged internal affairs agent, a corrupt cop reluctantly teams up with a defiant teen to unravel a conspiracy – before it's too late.    1\n",
       "s3867    Movie  The Last Summer              William Bindley  K.J. Apa, Maia Mitchell, Tyler Posey, Jacob Latimore, Halston Sage, Wolfgang Novogratz, Sosie Bacon, Jacob McCarthy, Mario Revolori, Gage Golightly, Audrey Grace Marshall                        United States  May 3, 2019         2019          TV-14   110 min   Comedies, Romantic Movies                       Teens from a Chicago high school grapple with their dreams, relationships and identities in a transformative summer before they leave for college.         1\n",
       "s3869    Movie  Laatu                        Manav Shah       Gagan Kokri, Aditi Sharma, Karamjit Anmol, Sardar Sohi, Anita Devgan, Ashish Duggal, Nisha Bano, Harby Sangha, Rahul Jungral, Prakash Gadhu                                                       India          May 2, 2019         2018          TV-PG   116 min   Comedies, Dramas, International Movies          A man who hopes to bring light to his village must compete with an officer from the electricity department to win over the love of his life.               1\n",
       "s3870    Movie  Olympus Has Fallen           Antoine Fuqua    Gerard Butler, Aaron Eckhart, Morgan Freeman, Finley Jacobsen, Dylan McDermott, Rick Yune, Angela Bassett, Melissa Leo, Radha Mitchell, Cole Hauser, Ashley Judd, Robert Forster                  United States  May 2, 2019         2013          R       119 min   Action & Adventure                              A disgraced Secret Service agent must come to the rescue when Korean terrorists descend on the White House and take the president hostage.                 1\n",
       "s997     Movie  HOMUNCULUS                   Takashi Shimizu  Go Ayano, Ryo Narita, Yukino Kishii, Anna Ishii, Seiyo Uchino                                                                                                                                     Japan          April 22, 2021      2021          TV-MA   116 min   Horror Movies, International Movies, Thrillers  Truth and illusion blurs when a homeless amnesiac awakens from an experimental medical procedure with the ability to see people's innermost traumas.       1\n",
       "Name: count, Length: 2930, dtype: int64"
      ]
     },
     "execution_count": 105,
     "metadata": {},
     "output_type": "execute_result"
    }
   ],
   "source": [
    "df_titles.value_counts()"
   ]
  }
 ],
 "metadata": {
  "kernelspec": {
   "display_name": "base",
   "language": "python",
   "name": "python3"
  },
  "language_info": {
   "codemirror_mode": {
    "name": "ipython",
    "version": 3
   },
   "file_extension": ".py",
   "mimetype": "text/x-python",
   "name": "python",
   "nbconvert_exporter": "python",
   "pygments_lexer": "ipython3",
   "version": "3.11.7"
  }
 },
 "nbformat": 4,
 "nbformat_minor": 2
}
